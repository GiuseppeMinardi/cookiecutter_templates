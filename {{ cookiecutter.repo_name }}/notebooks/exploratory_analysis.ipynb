{
 "cells": [
  {
   "cell_type": "code",
   "execution_count": 3,
   "id": "288fb7fa",
   "metadata": {},
   "outputs": [
    {
     "name": "stdout",
     "output_type": "stream",
     "text": [
      "Using plot_style.mlpstyle as plot style for matplotlib.\n"
     ]
    }
   ],
   "source": [
    "from pathlib import Path\n",
    "import pandas as pd\n",
    "from matplotlib import pyplot as plt\n",
    "import seaborn as sns\n",
    "\n",
    "root_folder = Path(\".\").resolve().parent\n",
    "data_folder = root_folder / \"data\"\n",
    "external_data_folder = data_folder / \"external\"\n",
    "processed_data_folder = data_folder / \"processed\"\n",
    "raw_data_folder = data_folder / \"raw\"\n",
    "\n",
    "report_folder = root_folder / \"report\"\n",
    "report_figures_folder = report_folder / \"figures\"\n",
    "report_tables_folder = report_folder / \"tables\"\n",
    "\n",
    "mlpstyle_path = root_folder / \"plot_style.mlpstyle\"\n",
    "if mlpstyle_path.exists():\n",
    "    plt.style.use(mlpstyle_path)\n",
    "    print(f\"Using {mlpstyle_path.name} as plot style for matplotlib.\")\n",
    "else:\n",
    "    print(\"No style found, using matplotlib default\")"
   ]
  },
  {
   "cell_type": "code",
   "execution_count": null,
   "id": "effad635",
   "metadata": {},
   "outputs": [],
   "source": []
  }
 ],
 "metadata": {
  "kernelspec": {
   "display_name": "pymc_env",
   "language": "python",
   "name": "python3"
  },
  "language_info": {
   "codemirror_mode": {
    "name": "ipython",
    "version": 3
   },
   "file_extension": ".py",
   "mimetype": "text/x-python",
   "name": "python",
   "nbconvert_exporter": "python",
   "pygments_lexer": "ipython3",
   "version": "3.12.11"
  }
 },
 "nbformat": 4,
 "nbformat_minor": 5
}
