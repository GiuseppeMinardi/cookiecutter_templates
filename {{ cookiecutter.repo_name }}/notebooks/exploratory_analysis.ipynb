{
 "cells": [
  {
   "cell_type": "code",
   "execution_count": null,
   "id": "288fb7fa",
   "metadata": {},
   "outputs": [],
   "source": [
    "# %run ./setup.py\n",
    "\n",
    "from pathlib import Path\n",
    "\n",
    "import pandas as pd\n",
    "import seaborn as sns\n",
    "from matplotlib import pyplot as plt\n",
    "\n",
    "from src import project_paths\n",
    "\n",
    "root_folder: Path = project_paths.root\n",
    "\n",
    "mlpstyle_path = root_folder / \"plot_style.mlpstyle\"\n",
    "if mlpstyle_path.exists():\n",
    "    plt.style.use(mlpstyle_path)\n",
    "    print(f\"Using {mlpstyle_path.name} as plot style for matplotlib.\")\n",
    "else:\n",
    "    print(\"No style found, using matplotlib default\")"
   ]
  },
  {
   "cell_type": "code",
   "execution_count": null,
   "id": "effad635",
   "metadata": {},
   "outputs": [],
   "source": []
  }
 ],
 "metadata": {
  "kernelspec": {
   "display_name": "pymc_env",
   "language": "python",
   "name": "python3"
  },
  "language_info": {
   "codemirror_mode": {
    "name": "ipython",
    "version": 3
   },
   "file_extension": ".py",
   "mimetype": "text/x-python",
   "name": "python",
   "nbconvert_exporter": "python",
   "pygments_lexer": "ipython3",
   "version": "3.12.11"
  }
 },
 "nbformat": 4,
 "nbformat_minor": 5
}
